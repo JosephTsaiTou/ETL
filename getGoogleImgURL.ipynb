{
 "cells": [
  {
   "cell_type": "code",
   "execution_count": 34,
   "metadata": {
    "collapsed": false
   },
   "outputs": [],
   "source": [
    "from splinter import Browser"
   ]
  },
  {
   "cell_type": "code",
   "execution_count": 35,
   "metadata": {
    "collapsed": true
   },
   "outputs": [],
   "source": [
    "from time import sleep"
   ]
  },
  {
   "cell_type": "code",
   "execution_count": 65,
   "metadata": {
    "collapsed": true
   },
   "outputs": [],
   "source": [
    "browser = Browser('chrome', executable_path='E:/ETL/chromedriver.exe')"
   ]
  },
  {
   "cell_type": "code",
   "execution_count": 66,
   "metadata": {
    "collapsed": false
   },
   "outputs": [],
   "source": [
    "url = 'https://www.google.com.tw/search?hl=zh-TW&site=imghp&tbm=isch&source=hp&biw=1450&bih=806&q='\n",
    "browser.visit(url + '地瓜葉')"
   ]
  },
  {
   "cell_type": "code",
   "execution_count": 74,
   "metadata": {
    "collapsed": false
   },
   "outputs": [],
   "source": [
    "from splinter import Browser\n",
    "from time import sleep\n",
    "\n",
    "browser = Browser('chrome', executable_path='E:/ETL/chromedriver.exe')\n",
    "sleep(5)\n",
    "url = 'https://www.google.com.tw/search?hl=zh-TW&site=imghp&tbm=isch&source=hp&biw=1450&bih=806&q='\n",
    "browser.visit(url + '地瓜葉')\n",
    "for i in range(1,20):\n",
    "    browser.execute_script(\"window.scrollTo(0, document.body.scrollHeight)\")\n",
    "    sleep(3)\n",
    "#     is_loaded = browser.evaluate_script(\"document.readyState\")\n",
    "#     while True:\n",
    "#         print(is_loaded)\n",
    "#         if is_loaded=='complete':\n",
    "#             break\n",
    "#         else:\n",
    "#             sleep(1)\n",
    "    if i == 5:\n",
    "        browser.find_by_id(\"smb\").click()\n",
    "#         browser.find_by_id('smb').click()\n",
    "#         driver.find_element_by_id('smb').click()\n",
    "        sleep(1)"
   ]
  },
  {
   "cell_type": "code",
   "execution_count": null,
   "metadata": {
    "collapsed": true
   },
   "outputs": [],
   "source": [
    "from bs4 import BeautifulSoup\n",
    "soup = BeautifulSoup(driver.page_source, 'lxml')"
   ]
  },
  {
   "cell_type": "code",
   "execution_count": null,
   "metadata": {
    "collapsed": true
   },
   "outputs": [],
   "source": []
  },
  {
   "cell_type": "code",
   "execution_count": null,
   "metadata": {
    "collapsed": true
   },
   "outputs": [],
   "source": [
    "def getURLfromGoogleImg_myCode(classname):\n",
    "    from time import sleep\n",
    "    \n",
    "    from bs4 import BeautifulSoup\n",
    "    from splinter import Browserb\n",
    "    browser = Browser('chrome', executable_path='E:/ETL/chromedriver.exe')\n",
    "    url = 'https://www.google.com.tw/search?hl=zh-TW&site=imghp&tbm=isch&source=hp&biw=1450&bih=806&q='\n",
    "    browser.visit(url + classname)\n",
    "    \n",
    "for i in range(1,20):\n",
    "    browser.execute_script(\"window.scrollTo(0, document.body.scrollHeight)\")\n",
    "    sleep(3)\n",
    "    if i == 5:\n",
    "        browser.find_by_id(\"smb\").click()\n",
    "        sleep(1)"
   ]
  }
 ],
 "metadata": {
  "kernelspec": {
   "display_name": "Python 3",
   "language": "python",
   "name": "python3"
  },
  "language_info": {
   "codemirror_mode": {
    "name": "ipython",
    "version": 3
   },
   "file_extension": ".py",
   "mimetype": "text/x-python",
   "name": "python",
   "nbconvert_exporter": "python",
   "pygments_lexer": "ipython3",
   "version": "3.5.2"
  }
 },
 "nbformat": 4,
 "nbformat_minor": 2
}
